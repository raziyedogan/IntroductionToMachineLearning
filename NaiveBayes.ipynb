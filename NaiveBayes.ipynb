{
 "cells": [
  {
   "cell_type": "markdown",
   "id": "e2745bea",
   "metadata": {},
   "source": [
    "Naive Bayes algoritması, Bayes teoremine dayanan ve sınıflandırma problemlerini çözmek için kullanılan denetimli bir öğrenme algoritmasıdır. Naive Bayes Classifier, hızlı tahminler yapabilen hızlı makine öğrenimi modellerinin oluşturulmasına yardımcı olan basit ve en etkili Sınıflandırma algoritmalarından biridir.\n",
    "Olasılıksal bir sınıflandırıcıdır, yani bir nesnenin olasılığına dayanarak tahmin eder.\n",
    "\n",
    "Algoritmanın ismindeki anlamı irdeleyerek algoritma hakkında bir algı yaratalım:\n",
    "Algoritmanın ismi, Naive ve Bayes olmak üzere iki kelimeden oluşuyor. Bunlar şu şekilde tanımlanabilir:\n",
    "        Naive:\n",
    "            Naive olarak adlandırılır, çünkü belirli bir özelliğin ortaya çıkmasının diğer özelliklerin ortaya çıkmasından                 bağımsız olduğunu varsayar.\n",
    "            Mesela bir meyve için turuncu, küre şeklinde tanımı yapılıyorsa bunun portakal olduğu anlaşılır. Dolayısıyla rengi,             şekli gibi her bir özellik, birbirinden bağımsız olarak portakal olduğunu belirlemeye ayrı ayrı katkıda bulunur.\n",
    "        Bayes:\n",
    "            Bayes Teoremi ilkesine dayandığı için Bayes olarak adlandırılır.\n",
    "            Bayes teoremi, önceden bilgi sahibi bir hipotezin olasılığını belirlemek için kullanılır. Hipotez derken, mesela               bir sınıflandırma probleminde, hipotezimiz (h) yeni bir veri örneği için atanacak sınıf olabilir.\n",
    "            Bayes Teoreminin formülü:\n",
    "            \n",
    "                    P(A|B) = P(B|A) * P(A) / P(B)\n",
    "                   \n",
    "                    Burada,\n",
    "                        P(A| B) posterior probability: Gözlemlenen B olayı üzerinde A hipotezinin olasılığı.\n",
    "                        P(B| A) Likelihood probability: Bir hipotezin olasılığının doğru olduğuna dair verilen kanıtların                               olasılığıdır.\n",
    "                        P(A) Prior probability: Kanıtları gözlemlemeden önce hipotez olasılığı.\n",
    "                        P(B) Marginal probability: Kanıt Olasılığı.\n",
    "                        \n",
    "Naive Bayes algoritmasını sözel bir örnek ile anlayalım:\n",
    "Elimizde bir hava durumu veri seti var. Bu veri setini kullanarak havanın o günkü durumuna göre bir çocuğun dondurma yiyip yiyemeyeceğine karar vermeliyiz.\n",
    "Bu problemi çözmek için sırasıyla şu adımları izlemeliyiz:\n",
    "    1. Veri setini frequency tables'a dönüştürmeliyiz.\n",
    "    2. Verilen özelliklerin olasılıklarını bularak Likelihood table'sini oluşturmalıyız.\n",
    "    3. Posterior probability'i hesaplamak için Bayes teoremini kullanmalıyız.\n",
    "Problem: Hava güneşli ise, çocuk dondurma yemeli mi, yememeli mi?\n",
    "\n",
    "Öncelikle şu veri setini değerlendirelim:\n",
    "\n",
    "                        Outlook         Eat\n",
    "0                       Rainy           Yes           \n",
    "1                       Sunny           Yes\n",
    "2                       Overcast        Yes\n",
    "3                       Overcast        Yes   \n",
    "4                       Sunny           No\n",
    "5                       Rainy           Yes\n",
    "6                       Sunny           Yes\n",
    "7                       Overcast        Yes\n",
    "8                       Rainy           No\n",
    "9                       Sunny           No\n",
    "10                      Sunny           Yes\n",
    "11                      Rainy           No\n",
    "12                      Overcast        Yes\n",
    "13                      Overcast        Yes\n",
    "\n",
    "Bu tablodan yola çıkarak hava durumuna göre Yes ve No adetlerini içeren frequency table oluşturalım:\n",
    "\n",
    "    Weather         No           Yes\n",
    "    Overcast        0            5                \n",
    "    Rainy           2            2                \n",
    "    Sunny           2            3                \n",
    "    Total           4            10\n",
    "\n",
    "\n",
    "Şimdide Likelihood table oluşturalım:\n",
    "\n",
    "    Weather         No           Yes\n",
    "    Overcast        0            5                5/14=0.35\n",
    "    Rainy           2            2                4/14=0.29\n",
    "    Sunny           2            3                5/14=0.35\n",
    "    All             4/14=0.29    10/14=0.71 \n",
    "\n",
    "\n",
    "Ve artık Bayes Teoremini uygulayalım:\n",
    "\n",
    "P(Yes|Sunny) = P(Sunny|Yes) * P(Yes) / P(Sunny)\n",
    "Burada kullanacağımız ifadelerin değerlerini elde edelim:\n",
    "P(Sunny|Yes) = 3/10 = 0.3\n",
    "P(Sunny) = 5/14=0.35\n",
    "P(Yes) = 10/14=0.71\n",
    "--> P(Yes|Sunny) = 0.3*0.71/0.35 = 0.60\n",
    "Bu sonuç çocuğun güneşli bir günde dondurma yiyebilmesine Yes diyenlerin olasılığını içerir.\n",
    "\n",
    "P(No|Sunny) = P(Sunny|No) * P(No) / P(Sunny)\n",
    "Burada kullanacağımız ifadelerin değerlerini elde edelim:\n",
    "P(Sunny|No) = 2/4=0.5\n",
    "P(Sunny) = 5/14=0.35\n",
    "P(No) = 4/14=0.29\n",
    "--> P(No|Sunny) = 0.5*0.29/0.35=0.41\n",
    "Bu sonuç çocuğun güneşli bir günde dondurma yiyebilmesine No diyenlerin olasılığını içerir.\n",
    "\n",
    "Hesaplamalar sonucunda görüldüğü üzere: P(Yes|Sunny) > P(No|Sunny)\n",
    "Sonuç olarak, güneşli bir günde çocuk dondurma yiyebilir.\n",
    "\n",
    "Ve son olarak Naive Bayes modeli türlerini inceleyelim:\n",
    "Üç tür Naive Bayes Modeli vardır:\n",
    "   Gaussian: Gauss modeli, özelliklerin normal bir dağılımı izlediğini varsayar. Bu, tahminciler ayrık yerine sürekli değerler    alırsa, modelin bu değerlerin Gauss dağılımından örneklendiğini varsaydığı anlamına gelir.\n",
    "    \n",
    "   Multinomial: Multinomial Naive Bayes sınıflandırıcısı, veriler multinomial olarak dağıtıldığında kullanılır. Öncelikle          belge sınıflandırma problemleri için kullanılır, belirli bir belgenin Spor, Politika, eğitim vb.\n",
    "   gibi hangi kategoriye ait olduğu anlamına gelir. Sınıflandırıcı, tahminciler için kelimelerin sıklığını kullanır.\n",
    "    \n",
    "   Bernoulli: Bernoulli sınıflandırıcısı, Multinomial sınıflandırıcıya benzer şekilde çalışır, ancak tahminci değişkenler          bağımsız Boole değişkenleridir. Örneğin, belirli bir kelimenin bir belgede bulunup bulunmadığı gibi. Bu model aynı zamanda      belge sınıflandırma görevleri ile de ünlüdür."
   ]
  },
  {
   "cell_type": "markdown",
   "id": "57c74ddb",
   "metadata": {},
   "source": [
    "Tüm bu anlatılanları bir veri seti üzerinde uygulayalım.\n",
    "Sırasıyla şu adımları uygulamalıyız:\n",
    "    1. Veri ön işleme (Data Pre-Processing)\n",
    "    2. Naive Bayes'i eğitim setine fit etme\n",
    "    3. Test sonucunu tahmin etme\n",
    "    4. Karmaşıklık matrisi ile sonucun test doğruluğunun tespiti\n",
    "    5. Test seti sonucunun görselleştirilmesi"
   ]
  },
  {
   "cell_type": "code",
   "execution_count": 1,
   "id": "884a637a",
   "metadata": {},
   "outputs": [],
   "source": [
    "#1.Veri ön işleme (Data Pre-Processing):\n",
    "\n",
    "import numpy as np\n",
    "import matplotlib.pyplot as plt\n",
    "import pandas as pd\n",
    "\n",
    "# Veri setini getirelim\n",
    "dataset = pd.read_csv('Social_Network_Ads.csv')\n",
    "x = dataset.iloc[:, [2, 3]].values\n",
    "y = dataset.iloc[:, 4].values\n",
    "\n",
    "# Veri kümesini Eğitim kümesi ve Test kümesine bölelim\n",
    "from sklearn.model_selection import train_test_split\n",
    "x_train, x_test, y_train, y_test = train_test_split(x, y, test_size = 0.25, random_state = 0)\n",
    "\n",
    "# Özellik Ölçeklendirme yapalım\n",
    "from sklearn.preprocessing import StandardScaler\n",
    "sc = StandardScaler()\n",
    "x_train = sc.fit_transform(x_train)\n",
    "x_test = sc.transform(x_test)"
   ]
  },
  {
   "cell_type": "code",
   "execution_count": 2,
   "id": "80fb2e5c",
   "metadata": {},
   "outputs": [
    {
     "data": {
      "text/plain": [
       "GaussianNB()"
      ]
     },
     "execution_count": 2,
     "metadata": {},
     "output_type": "execute_result"
    }
   ],
   "source": [
    "# Naive Bayes'i eğitim setine fit etme\n",
    "from sklearn.naive_bayes import GaussianNB\n",
    "classifier = GaussianNB()\n",
    "classifier.fit(x_train, y_train)"
   ]
  },
  {
   "cell_type": "code",
   "execution_count": 3,
   "id": "5b8728f8",
   "metadata": {},
   "outputs": [],
   "source": [
    "#Test sonucunu tahmin etme\n",
    "y_pred = classifier.predict(x_test)"
   ]
  },
  {
   "cell_type": "code",
   "execution_count": 4,
   "id": "01775230",
   "metadata": {},
   "outputs": [
    {
     "data": {
      "text/plain": [
       "array([[65,  3],\n",
       "       [ 7, 25]], dtype=int64)"
      ]
     },
     "execution_count": 4,
     "metadata": {},
     "output_type": "execute_result"
    }
   ],
   "source": [
    "#Karmaşıklık matrisi ile sonucun test doğruluğunun tespiti\n",
    "from sklearn.metrics import confusion_matrix\n",
    "confusion_matrix(y_test, y_pred)"
   ]
  },
  {
   "cell_type": "code",
   "execution_count": 5,
   "id": "ce936c6f",
   "metadata": {},
   "outputs": [
    {
     "name": "stderr",
     "output_type": "stream",
     "text": [
      "*c* argument looks like a single numeric RGB or RGBA sequence, which should be avoided as value-mapping will have precedence in case its length matches with *x* & *y*.  Please use the *color* keyword-argument or provide a 2D array with a single row if you intend to specify the same RGB or RGBA value for all points.\n",
      "*c* argument looks like a single numeric RGB or RGBA sequence, which should be avoided as value-mapping will have precedence in case its length matches with *x* & *y*.  Please use the *color* keyword-argument or provide a 2D array with a single row if you intend to specify the same RGB or RGBA value for all points.\n"
     ]
    },
    {
     "data": {
      "image/png": "[encoded data removed]",
      "text/plain": [
       "<Figure size 432x288 with 1 Axes>"
      ]
     },
     "metadata": {
      "needs_background": "light"
     },
     "output_type": "display_data"
    }
   ],
   "source": [
    "#Eğitim Seti Sonucunu Görselleştirme:\n",
    "from matplotlib.colors import ListedColormap\n",
    "x_set, y_set = x_train, y_train\n",
    "X1, X2 = np.meshgrid(np.arange(start = x_set[:, 0].min() - 1, stop = x_set[:, 0].max() + 1, step = 0.01),\n",
    "np.arange(start = x_set[:, 1].min() - 1, stop = x_set[:, 1].max() + 1, step = 0.01))\n",
    "plt.contourf(X1, X2, classifier.predict(np.array([X1.ravel(), X2.ravel()]).T).reshape(X1.shape),\n",
    "alpha = 0.75, cmap = ListedColormap(('purple', 'green')))\n",
    "plt.xlim(X1.min(), X1.max())\n",
    "plt.ylim(X2.min(), X2.max())\n",
    "for i, j in enumerate(np.unique(y_set)):\n",
    "    plt.scatter(x_set[y_set == j, 0], x_set[y_set == j, 1],\n",
    "c = ListedColormap(('purple', 'green'))(i), label = j)\n",
    "plt.title('Naive Bayes (Training set)')\n",
    "plt.xlabel('Age')\n",
    "plt.ylabel('Estimated Salary')\n",
    "plt.legend()\n",
    "plt.show()"
   ]
  },
  {
   "cell_type": "code",
   "execution_count": 6,
   "id": "5812c5d8",
   "metadata": {},
   "outputs": [
    {
     "name": "stderr",
     "output_type": "stream",
     "text": [
      "*c* argument looks like a single numeric RGB or RGBA sequence, which should be avoided as value-mapping will have precedence in case its length matches with *x* & *y*.  Please use the *color* keyword-argument or provide a 2D array with a single row if you intend to specify the same RGB or RGBA value for all points.\n",
      "*c* argument looks like a single numeric RGB or RGBA sequence, which should be avoided as value-mapping will have precedence in case its length matches with *x* & *y*.  Please use the *color* keyword-argument or provide a 2D array with a single row if you intend to specify the same RGB or RGBA value for all points.\n"
     ]
    },
    {
     "data": {
      "image/png": "[encoded data removed]",
      "text/plain": [
       "<Figure size 432x288 with 1 Axes>"
      ]
     },
     "metadata": {
      "needs_background": "light"
     },
     "output_type": "display_data"
    }
   ],
   "source": [
    "#Test seti sonucunun görselleştirilmesi\n",
    "from matplotlib.colors import ListedColormap\n",
    "x_set, y_set = x_test, y_test\n",
    "X1, X2 = np.meshgrid(np.arange(start = x_set[:, 0].min() - 1, stop = x_set[:, 0].max() + 1, step = 0.01),\n",
    "np.arange(start = x_set[:, 1].min() - 1, stop = x_set[:, 1].max() + 1, step = 0.01))\n",
    "plt.contourf(X1, X2, classifier.predict(np.array([X1.ravel(), X2.ravel()]).T).reshape(X1.shape),\n",
    "alpha = 0.75, cmap = ListedColormap(('purple', 'green')))\n",
    "plt.xlim(X1.min(), X1.max())\n",
    "plt.ylim(X2.min(), X2.max())\n",
    "for i, j in enumerate(np.unique(y_set)):\n",
    "    plt.scatter(x_set[y_set == j, 0], x_set[y_set == j, 1],\n",
    "c = ListedColormap(('purple', 'green'))(i), label = j)\n",
    "plt.title('Naive Bayes (test set)')\n",
    "plt.xlabel('Age')\n",
    "plt.ylabel('Estimated Salary')\n",
    "plt.legend()\n",
    "plt.show()"
   ]
  }
 ],
 "metadata": {
  "kernelspec": {
   "display_name": "Python 3 (ipykernel)",
   "language": "python",
   "name": "python3"
  },
  "language_info": {
   "codemirror_mode": {
    "name": "ipython",
    "version": 3
   },
   "file_extension": ".py",
   "mimetype": "text/x-python",
   "name": "python",
   "nbconvert_exporter": "python",
   "pygments_lexer": "ipython3",
   "version": "3.9.7"
  }
 },
 "nbformat": 4,
 "nbformat_minor": 5
}
